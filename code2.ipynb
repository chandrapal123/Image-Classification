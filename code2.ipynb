{
 "cells": [
  {
   "cell_type": "code",
   "execution_count": 32,
   "metadata": {},
   "outputs": [],
   "source": [
    "# Ignore  the warnings\n",
    "import warnings\n",
    "warnings.filterwarnings('always')\n",
    "warnings.filterwarnings('ignore')\n",
    "\n",
    "# data visualisation and manipulation\n",
    "import numpy as np\n",
    "import pandas as pd\n",
    "import matplotlib.pyplot as plt\n",
    "from matplotlib import style\n",
    "import seaborn as sns\n",
    " \n",
    "#configure\n",
    "# sets matplotlib to inline and displays graphs below the corressponding cell.\n",
    "%matplotlib inline  \n",
    "style.use('fivethirtyeight')\n",
    "sns.set(style='whitegrid',color_codes=True)\n",
    "\n",
    "#model selection\n",
    "from sklearn.model_selection import train_test_split\n",
    "from sklearn.model_selection import KFold\n",
    "from sklearn.metrics import accuracy_score,precision_score,recall_score,confusion_matrix,roc_curve,roc_auc_score\n",
    "from sklearn.model_selection import GridSearchCV\n",
    "from sklearn.preprocessing import LabelEncoder\n",
    "#preprocess.\n",
    "from keras.preprocessing.image import ImageDataGenerator\n",
    "\n",
    "#dl libraraies\n",
    "from keras import backend as K\n",
    "from keras.models import Sequential\n",
    "from keras.layers import Dense\n",
    "from keras.optimizers import Adam,SGD,Adagrad,Adadelta,RMSprop\n",
    "from keras.utils import to_categorical\n",
    "# specifically for cnn\n",
    "from keras.layers import Dropout, Flatten,Activation\n",
    "from keras.layers import Conv2D, MaxPooling2D, BatchNormalization\n",
    "from keras.layers import Dropout \n",
    "import tensorflow as tf\n",
    "import random as rn"
   ]
  },
  {
   "cell_type": "code",
   "execution_count": 33,
   "metadata": {},
   "outputs": [],
   "source": [
    "# specifically for manipulating zipped images and getting numpy arrays of pixel values of images.\n",
    "import cv2                  \n",
    "import numpy as np  \n",
    "from tqdm import tqdm\n",
    "import os                   \n",
    "from random import shuffle  \n",
    "from zipfile import ZipFile\n",
    "from PIL import Image"
   ]
  },
  {
   "cell_type": "code",
   "execution_count": 34,
   "metadata": {},
   "outputs": [],
   "source": [
    "def assign_label(img,flower_type):\n",
    "    return flower_type"
   ]
  },
  {
   "cell_type": "code",
   "execution_count": 35,
   "metadata": {},
   "outputs": [],
   "source": [
    "def make_train_data(flower_type,DIR):\n",
    "    for img in os.listdir(DIR):\n",
    "        label=assign_label(img,flower_type)\n",
    "        path = os.path.join(DIR,img)\n",
    "        img = cv2.imread(path,cv2.IMREAD_COLOR)\n",
    "        img = cv2.resize(img, (IMG_SIZE,IMG_SIZE))\n",
    "            \n",
    "        X.append(np.array(img))\n",
    "        Z.append(str(label))"
   ]
  },
  {
   "cell_type": "code",
   "execution_count": 36,
   "metadata": {},
   "outputs": [],
   "source": [
    "X=[]\n",
    "Z=[]\n",
    "IMG_SIZE=50\n",
    "b_c_DIR='/Users/user/Desktop/test/benign'\n",
    "b_c_DIR1='/Users/user/Desktop/test/malignant'"
   ]
  },
  {
   "cell_type": "code",
   "execution_count": 37,
   "metadata": {},
   "outputs": [
    {
     "name": "stdout",
     "output_type": "stream",
     "text": [
      "['benign', 'malignant']\n"
     ]
    }
   ],
   "source": [
    "print(os.listdir('/Users/user/Desktop/test'))"
   ]
  },
  {
   "cell_type": "code",
   "execution_count": 38,
   "metadata": {},
   "outputs": [
    {
     "name": "stdout",
     "output_type": "stream",
     "text": [
      "540\n"
     ]
    }
   ],
   "source": [
    "make_train_data('bebign',b_c_DIR)\n",
    "print(len(X))"
   ]
  },
  {
   "cell_type": "code",
   "execution_count": 39,
   "metadata": {},
   "outputs": [
    {
     "name": "stdout",
     "output_type": "stream",
     "text": [
      "1091\n"
     ]
    }
   ],
   "source": [
    "make_train_data('malignant',b_c_DIR1)\n",
    "print(len(X))"
   ]
  },
  {
   "cell_type": "code",
   "execution_count": 40,
   "metadata": {},
   "outputs": [],
   "source": [
    "le=LabelEncoder()\n",
    "Y=le.fit_transform(Z)\n",
    "s=set(Z)\n",
    "l=[]\n",
    "for i in s:\n",
    "    l.append(i)\n",
    "cheak1=le.fit_transform(l)\n",
    "cheak2=to_categorical(cheak1,2)\n",
    "Y=to_categorical(Y,2)\n",
    "X=np.array(X)\n",
    "X=X/255"
   ]
  },
  {
   "cell_type": "code",
   "execution_count": 41,
   "metadata": {},
   "outputs": [
    {
     "name": "stdout",
     "output_type": "stream",
     "text": [
      "[[0. 1.]\n",
      " [1. 0.]]\n",
      "[1 0]\n",
      "['malignant', 'bebign']\n"
     ]
    }
   ],
   "source": [
    "print(cheak2)\n",
    "print(cheak1)\n",
    "print(l)"
   ]
  },
  {
   "cell_type": "code",
   "execution_count": 42,
   "metadata": {},
   "outputs": [],
   "source": [
    "x_train,x_test,y_train,y_test=train_test_split(X,Y,test_size=0.25,random_state=42)"
   ]
  },
  {
   "cell_type": "code",
   "execution_count": 43,
   "metadata": {},
   "outputs": [],
   "source": [
    "bn=BatchNormalization(momentum=0.0)\n",
    "model = Sequential()\n",
    "model.add(Conv2D(filters = 16, kernel_size = (5,5),padding = 'Same',activation ='relu', input_shape = (IMG_SIZE,IMG_SIZE,3)))\n",
    "model.add(MaxPooling2D(pool_size=(2,2)))\n",
    "model.add(BatchNormalization())\n",
    "\n",
    "model.add(Conv2D(filters = 32, kernel_size = (4,4),padding = 'Same',activation ='relu'))\n",
    "model.add(MaxPooling2D(pool_size=(2,2), strides=(2,2)))\n",
    "model.add(BatchNormalization())\n",
    "\n",
    "model.add(Conv2D(filters =64, kernel_size = (3,3),padding = 'Same',activation ='relu'))\n",
    "model.add(MaxPooling2D(pool_size=(2,2), strides=(2,2)))\n",
    "model.add(BatchNormalization())\n",
    "\n",
    "model.add(Conv2D(filters =64, kernel_size = (3,3),padding = 'Same',activation ='relu'))\n",
    "model.add(MaxPooling2D(pool_size=(2,2), strides=(2,2)))\n",
    "model.add(BatchNormalization())\n",
    "\n",
    "model.add(Flatten())\n",
    "model.add(Dropout(0.2))\n",
    "model.add(Activation('relu'))\n",
    "model.add(Dense(512))\n",
    "model.add(Dropout(0.5))\n",
    "model.add(Activation('relu'))\n",
    "model.add(Dense(256))\n",
    "model.add(Dense(2, activation = \"softmax\"))"
   ]
  },
  {
   "cell_type": "code",
   "execution_count": 44,
   "metadata": {},
   "outputs": [],
   "source": [
    "batch_size=128\n",
    "epochs=30\n",
    "\n",
    "from keras.callbacks import ReduceLROnPlateau\n",
    "red_lr= ReduceLROnPlateau(monitor='val_acc',patience=3,verbose=1,factor=0.1)"
   ]
  },
  {
   "cell_type": "code",
   "execution_count": 45,
   "metadata": {},
   "outputs": [],
   "source": [
    "datagen=ImageDataGenerator()\n",
    "datagen.fit(x_train)"
   ]
  },
  {
   "cell_type": "code",
   "execution_count": 46,
   "metadata": {},
   "outputs": [
    {
     "name": "stdout",
     "output_type": "stream",
     "text": [
      "Model: \"sequential_3\"\n",
      "_________________________________________________________________\n",
      "Layer (type)                 Output Shape              Param #   \n",
      "=================================================================\n",
      "conv2d_9 (Conv2D)            (None, 50, 50, 16)        1216      \n",
      "_________________________________________________________________\n",
      "max_pooling2d_9 (MaxPooling2 (None, 25, 25, 16)        0         \n",
      "_________________________________________________________________\n",
      "batch_normalization_12 (Batc (None, 25, 25, 16)        64        \n",
      "_________________________________________________________________\n",
      "conv2d_10 (Conv2D)           (None, 25, 25, 32)        8224      \n",
      "_________________________________________________________________\n",
      "max_pooling2d_10 (MaxPooling (None, 12, 12, 32)        0         \n",
      "_________________________________________________________________\n",
      "batch_normalization_13 (Batc (None, 12, 12, 32)        128       \n",
      "_________________________________________________________________\n",
      "conv2d_11 (Conv2D)           (None, 12, 12, 64)        18496     \n",
      "_________________________________________________________________\n",
      "max_pooling2d_11 (MaxPooling (None, 6, 6, 64)          0         \n",
      "_________________________________________________________________\n",
      "batch_normalization_14 (Batc (None, 6, 6, 64)          256       \n",
      "_________________________________________________________________\n",
      "conv2d_12 (Conv2D)           (None, 6, 6, 64)          36928     \n",
      "_________________________________________________________________\n",
      "max_pooling2d_12 (MaxPooling (None, 3, 3, 64)          0         \n",
      "_________________________________________________________________\n",
      "batch_normalization_15 (Batc (None, 3, 3, 64)          256       \n",
      "_________________________________________________________________\n",
      "flatten_3 (Flatten)          (None, 576)               0         \n",
      "_________________________________________________________________\n",
      "dropout_3 (Dropout)          (None, 576)               0         \n",
      "_________________________________________________________________\n",
      "activation_3 (Activation)    (None, 576)               0         \n",
      "_________________________________________________________________\n",
      "dense_4 (Dense)              (None, 512)               295424    \n",
      "_________________________________________________________________\n",
      "dropout_4 (Dropout)          (None, 512)               0         \n",
      "_________________________________________________________________\n",
      "activation_4 (Activation)    (None, 512)               0         \n",
      "_________________________________________________________________\n",
      "dense_5 (Dense)              (None, 256)               131328    \n",
      "_________________________________________________________________\n",
      "dense_6 (Dense)              (None, 2)                 514       \n",
      "=================================================================\n",
      "Total params: 492,834\n",
      "Trainable params: 492,482\n",
      "Non-trainable params: 352\n",
      "_________________________________________________________________\n"
     ]
    }
   ],
   "source": [
    "model.compile(optimizer=Adam(lr=0.001),loss='categorical_crossentropy',metrics=['accuracy'])\n",
    "model.summary()"
   ]
  },
  {
   "cell_type": "code",
   "execution_count": 59,
   "metadata": {},
   "outputs": [
    {
     "name": "stdout",
     "output_type": "stream",
     "text": [
      "Epoch 1/30\n",
      "6/6 [==============================] - ETA: 1s - loss: 0.0665 - accuracy: 0.98 - ETA: 1s - loss: 0.0339 - accuracy: 0.99 - ETA: 0s - loss: 0.0226 - accuracy: 0.99 - ETA: 0s - loss: 0.0172 - accuracy: 0.99 - ETA: 0s - loss: 0.0142 - accuracy: 0.99 - 2s 265ms/step - loss: 0.0193 - accuracy: 0.9942 - val_loss: 11.7290 - val_accuracy: 0.4725\n",
      "Epoch 2/30\n",
      "6/6 [==============================] - ETA: 1s - loss: 0.0676 - accuracy: 0.99 - ETA: 1s - loss: 0.0421 - accuracy: 0.98 - ETA: 0s - loss: 0.0347 - accuracy: 0.98 - ETA: 0s - loss: 0.0260 - accuracy: 0.99 - ETA: 0s - loss: 0.0280 - accuracy: 0.99 - 2s 384ms/step - loss: 0.0234 - accuracy: 0.9922 - val_loss: 0.5947 - val_accuracy: 0.8755\n",
      "Epoch 3/30\n",
      "6/6 [==============================] - ETA: 1s - loss: 0.0653 - accuracy: 0.96 - ETA: 1s - loss: 0.0329 - accuracy: 0.97 - ETA: 0s - loss: 0.0221 - accuracy: 0.98 - ETA: 0s - loss: 0.0167 - accuracy: 0.99 - ETA: 0s - loss: 0.0150 - accuracy: 0.99 - 2s 341ms/step - loss: 0.0250 - accuracy: 0.9886 - val_loss: 0.4059 - val_accuracy: 0.8681\n",
      "Epoch 4/30\n",
      "6/6 [==============================] - ETA: 1s - loss: 0.0011 - accuracy: 1.00 - ETA: 1s - loss: 0.0011 - accuracy: 1.00 - ETA: 1s - loss: 9.0127e-04 - accuracy: 1.00 - ETA: 0s - loss: 0.0077 - accuracy: 0.9980   - ETA: 0s - loss: 0.0073 - accuracy: 0.99 - 2s 408ms/step - loss: 0.0064 - accuracy: 0.9987 - val_loss: 0.6781 - val_accuracy: 0.8278\n",
      "Epoch 5/30\n",
      "6/6 [==============================] - ETA: 1s - loss: 0.0044 - accuracy: 1.00 - ETA: 1s - loss: 0.0029 - accuracy: 1.00 - ETA: 1s - loss: 0.0189 - accuracy: 0.98 - ETA: 0s - loss: 0.0143 - accuracy: 0.98 - ETA: 0s - loss: 0.0116 - accuracy: 0.99 - 2s 378ms/step - loss: 0.0100 - accuracy: 0.9928 - val_loss: 5.5102 - val_accuracy: 0.5568\n",
      "Epoch 6/30\n",
      "6/6 [==============================] - ETA: 1s - loss: 0.0145 - accuracy: 0.99 - ETA: 1s - loss: 0.0189 - accuracy: 0.98 - ETA: 0s - loss: 0.0126 - accuracy: 0.99 - ETA: 0s - loss: 0.0095 - accuracy: 0.99 - ETA: 0s - loss: 0.0099 - accuracy: 0.99 - 2s 374ms/step - loss: 0.0084 - accuracy: 0.9942 - val_loss: 1.5323 - val_accuracy: 0.8168\n",
      "Epoch 7/30\n",
      "6/6 [==============================] - ETA: 1s - loss: 0.0017 - accuracy: 1.00 - ETA: 1s - loss: 0.0136 - accuracy: 0.99 - ETA: 0s - loss: 0.0091 - accuracy: 0.99 - ETA: 0s - loss: 0.0106 - accuracy: 0.99 - ETA: 0s - loss: 0.0085 - accuracy: 0.99 - 2s 375ms/step - loss: 0.0073 - accuracy: 0.9957 - val_loss: 6.2783 - val_accuracy: 0.5385\n",
      "Epoch 8/30\n",
      "6/6 [==============================] - ETA: 1s - loss: 0.0200 - accuracy: 0.99 - ETA: 1s - loss: 0.0121 - accuracy: 0.99 - ETA: 0s - loss: 0.0259 - accuracy: 0.99 - ETA: 0s - loss: 0.0195 - accuracy: 0.99 - ETA: 0s - loss: 0.0167 - accuracy: 0.99 - 2s 395ms/step - loss: 0.0133 - accuracy: 0.9957 - val_loss: 3.4520 - val_accuracy: 0.6777\n",
      "Epoch 9/30\n",
      "6/6 [==============================] - ETA: 2s - loss: 0.0344 - accuracy: 0.99 - ETA: 1s - loss: 0.0288 - accuracy: 0.98 - ETA: 0s - loss: 0.0198 - accuracy: 0.99 - ETA: 0s - loss: 0.0156 - accuracy: 0.99 - ETA: 0s - loss: 0.0125 - accuracy: 0.99 - 2s 384ms/step - loss: 0.0118 - accuracy: 0.9942 - val_loss: 5.2329 - val_accuracy: 0.5348\n",
      "Epoch 10/30\n",
      "6/6 [==============================] - ETA: 1s - loss: 9.9429e-04 - accuracy: 1.00 - ETA: 1s - loss: 0.0158 - accuracy: 0.9961   - ETA: 1s - loss: 0.0117 - accuracy: 0.99 - ETA: 0s - loss: 0.0088 - accuracy: 0.99 - ETA: 0s - loss: 0.0118 - accuracy: 0.99 - 2s 409ms/step - loss: 0.0101 - accuracy: 0.9974 - val_loss: 0.6248 - val_accuracy: 0.8498\n",
      "Epoch 11/30\n",
      "6/6 [==============================] - ETA: 0s - loss: 0.0113 - accuracy: 1.00 - ETA: 1s - loss: 0.0106 - accuracy: 0.99 - ETA: 0s - loss: 0.0073 - accuracy: 0.99 - ETA: 0s - loss: 0.0066 - accuracy: 0.99 - ETA: 0s - loss: 0.0054 - accuracy: 0.99 - 2s 374ms/step - loss: 0.0046 - accuracy: 0.9986 - val_loss: 0.2561 - val_accuracy: 0.9267\n",
      "Epoch 12/30\n",
      "6/6 [==============================] - ETA: 1s - loss: 0.0071 - accuracy: 0.99 - ETA: 1s - loss: 0.0093 - accuracy: 0.99 - ETA: 0s - loss: 0.0062 - accuracy: 0.99 - ETA: 0s - loss: 0.0047 - accuracy: 0.99 - ETA: 0s - loss: 0.0037 - accuracy: 0.99 - 2s 377ms/step - loss: 0.0032 - accuracy: 0.9971 - val_loss: 0.7394 - val_accuracy: 0.8938\n",
      "Epoch 13/30\n",
      "6/6 [==============================] - ETA: 0s - loss: 1.7578e-04 - accuracy: 1.00 - ETA: 1s - loss: 2.9678e-04 - accuracy: 1.00 - ETA: 0s - loss: 0.0048 - accuracy: 0.9967   - ETA: 0s - loss: 0.0036 - accuracy: 0.99 - ETA: 0s - loss: 0.0030 - accuracy: 0.99 - 2s 374ms/step - loss: 0.0027 - accuracy: 0.9986 - val_loss: 0.5509 - val_accuracy: 0.8901\n",
      "Epoch 14/30\n",
      "6/6 [==============================] - ETA: 0s - loss: 4.5544e-04 - accuracy: 1.00 - ETA: 1s - loss: 2.6201e-04 - accuracy: 1.00 - ETA: 0s - loss: 9.2639e-04 - accuracy: 1.00 - ETA: 0s - loss: 9.7738e-04 - accuracy: 1.00 - ETA: 0s - loss: 7.9942e-04 - accuracy: 1.00 - 2s 377ms/step - loss: 8.2823e-04 - accuracy: 1.0000 - val_loss: 0.4996 - val_accuracy: 0.9011\n",
      "Epoch 15/30\n",
      "6/6 [==============================] - ETA: 1s - loss: 7.6209e-04 - accuracy: 1.00 - ETA: 1s - loss: 0.0030 - accuracy: 1.0000   - ETA: 1s - loss: 0.0034 - accuracy: 1.00 - ETA: 0s - loss: 0.0026 - accuracy: 1.00 - ETA: 0s - loss: 0.0021 - accuracy: 1.00 - 3s 419ms/step - loss: 0.0018 - accuracy: 1.0000 - val_loss: 0.4175 - val_accuracy: 0.9048\n",
      "Epoch 16/30\n",
      "6/6 [==============================] - ETA: 0s - loss: 3.6286e-04 - accuracy: 1.00 - ETA: 1s - loss: 4.0207e-04 - accuracy: 1.00 - ETA: 0s - loss: 0.0011 - accuracy: 1.0000   - ETA: 0s - loss: 8.6963e-04 - accuracy: 1.00 - ETA: 0s - loss: 7.5223e-04 - accuracy: 1.00 - 2s 391ms/step - loss: 6.4665e-04 - accuracy: 1.0000 - val_loss: 0.4864 - val_accuracy: 0.9048\n",
      "Epoch 17/30\n",
      "6/6 [==============================] - ETA: 1s - loss: 2.1905e-04 - accuracy: 1.00 - ETA: 1s - loss: 0.0018 - accuracy: 1.0000   - ETA: 0s - loss: 0.0015 - accuracy: 1.00 - ETA: 0s - loss: 0.0017 - accuracy: 1.00 - ETA: 0s - loss: 0.0015 - accuracy: 1.00 - 2s 346ms/step - loss: 0.0014 - accuracy: 1.0000 - val_loss: 0.9122 - val_accuracy: 0.8645\n",
      "Epoch 18/30\n",
      "6/6 [==============================] - ETA: 1s - loss: 3.3549e-04 - accuracy: 1.00 - ETA: 1s - loss: 1.8368e-04 - accuracy: 1.00 - ETA: 1s - loss: 1.2967e-04 - accuracy: 1.00 - ETA: 0s - loss: 4.1553e-04 - accuracy: 1.00 - ETA: 0s - loss: 3.4102e-04 - accuracy: 1.00 - 2s 409ms/step - loss: 3.4035e-04 - accuracy: 1.0000 - val_loss: 1.3599 - val_accuracy: 0.8205\n",
      "Epoch 19/30\n",
      "6/6 [==============================] - ETA: 1s - loss: 7.9714e-04 - accuracy: 1.00 - ETA: 1s - loss: 4.9177e-04 - accuracy: 1.00 - ETA: 0s - loss: 8.2500e-04 - accuracy: 1.00 - ETA: 0s - loss: 0.0035 - accuracy: 0.9977   - ETA: 0s - loss: 0.0029 - accuracy: 0.99 - 2s 378ms/step - loss: 0.0025 - accuracy: 0.9986 - val_loss: 1.0604 - val_accuracy: 0.8571\n",
      "Epoch 20/30\n",
      "6/6 [==============================] - ETA: 1s - loss: 2.4345e-05 - accuracy: 1.00 - ETA: 1s - loss: 1.6973e-05 - accuracy: 1.00 - ETA: 0s - loss: 6.5219e-05 - accuracy: 1.00 - ETA: 0s - loss: 1.1193e-04 - accuracy: 1.00 - ETA: 0s - loss: 1.0214e-04 - accuracy: 1.00 - 2s 394ms/step - loss: 8.5674e-05 - accuracy: 1.0000 - val_loss: 0.7842 - val_accuracy: 0.9011\n",
      "Epoch 21/30\n",
      "6/6 [==============================] - ETA: 0s - loss: 6.0379e-05 - accuracy: 1.00 - ETA: 1s - loss: 4.2391e-05 - accuracy: 1.00 - ETA: 0s - loss: 1.8124e-04 - accuracy: 1.00 - ETA: 0s - loss: 1.6915e-04 - accuracy: 1.00 - ETA: 0s - loss: 1.5542e-04 - accuracy: 1.00 - 2s 378ms/step - loss: 2.4383e-04 - accuracy: 1.0000 - val_loss: 0.7174 - val_accuracy: 0.9121\n",
      "Epoch 22/30\n",
      "6/6 [==============================] - ETA: 0s - loss: 1.5720e-04 - accuracy: 1.00 - ETA: 1s - loss: 8.0371e-04 - accuracy: 1.00 - ETA: 0s - loss: 0.0015 - accuracy: 1.0000   - ETA: 0s - loss: 0.0012 - accuracy: 1.00 - ETA: 0s - loss: 0.0015 - accuracy: 1.00 - 2s 376ms/step - loss: 0.0013 - accuracy: 1.0000 - val_loss: 0.5336 - val_accuracy: 0.9194\n",
      "Epoch 23/30\n",
      "6/6 [==============================] - ETA: 1s - loss: 3.1765e-04 - accuracy: 1.00 - ETA: 1s - loss: 0.0026 - accuracy: 1.0000   - ETA: 1s - loss: 0.0018 - accuracy: 1.00 - ETA: 0s - loss: 0.0013 - accuracy: 1.00 - ETA: 0s - loss: 0.0011 - accuracy: 1.00 - 2s 410ms/step - loss: 9.5547e-04 - accuracy: 1.0000 - val_loss: 0.2424 - val_accuracy: 0.9414\n"
     ]
    },
    {
     "name": "stdout",
     "output_type": "stream",
     "text": [
      "Epoch 24/30\n",
      "6/6 [==============================] - ETA: 1s - loss: 1.7217e-05 - accuracy: 1.00 - ETA: 1s - loss: 7.5298e-04 - accuracy: 1.00 - ETA: 0s - loss: 5.0301e-04 - accuracy: 1.00 - ETA: 0s - loss: 4.2970e-04 - accuracy: 1.00 - ETA: 0s - loss: 9.5408e-04 - accuracy: 1.00 - 2s 344ms/step - loss: 8.0400e-04 - accuracy: 1.0000 - val_loss: 0.1599 - val_accuracy: 0.9524\n",
      "Epoch 25/30\n",
      "6/6 [==============================] - ETA: 1s - loss: 2.8935e-04 - accuracy: 1.00 - ETA: 1s - loss: 2.0019e-04 - accuracy: 1.00 - ETA: 1s - loss: 1.3448e-04 - accuracy: 1.00 - ETA: 0s - loss: 1.0331e-04 - accuracy: 1.00 - ETA: 0s - loss: 9.3248e-05 - accuracy: 1.00 - 2s 391ms/step - loss: 8.1920e-05 - accuracy: 1.0000 - val_loss: 0.2113 - val_accuracy: 0.9487\n",
      "Epoch 26/30\n",
      "6/6 [==============================] - ETA: 1s - loss: 1.2179e-04 - accuracy: 1.00 - ETA: 1s - loss: 6.6575e-05 - accuracy: 1.00 - ETA: 1s - loss: 5.2362e-05 - accuracy: 1.00 - ETA: 0s - loss: 1.1047e-04 - accuracy: 1.00 - ETA: 0s - loss: 1.0241e-04 - accuracy: 1.00 - 2s 386ms/step - loss: 9.4638e-05 - accuracy: 1.0000 - val_loss: 0.2621 - val_accuracy: 0.9414\n",
      "Epoch 27/30\n",
      "6/6 [==============================] - ETA: 1s - loss: 3.8032e-04 - accuracy: 1.00 - ETA: 1s - loss: 2.2381e-04 - accuracy: 1.00 - ETA: 1s - loss: 8.5666e-04 - accuracy: 1.00 - ETA: 0s - loss: 6.4645e-04 - accuracy: 1.00 - ETA: 0s - loss: 5.6282e-04 - accuracy: 1.00 - 2s 399ms/step - loss: 5.0117e-04 - accuracy: 1.0000 - val_loss: 0.1523 - val_accuracy: 0.9524\n",
      "Epoch 28/30\n",
      "6/6 [==============================] - ETA: 2s - loss: 3.0462e-05 - accuracy: 1.00 - ETA: 1s - loss: 1.9178e-05 - accuracy: 1.00 - ETA: 1s - loss: 4.1320e-05 - accuracy: 1.00 - ETA: 0s - loss: 4.7282e-05 - accuracy: 1.00 - ETA: 0s - loss: 4.1418e-05 - accuracy: 1.00 - 3s 419ms/step - loss: 4.1292e-04 - accuracy: 1.0000 - val_loss: 0.1154 - val_accuracy: 0.9634\n",
      "Epoch 29/30\n",
      "6/6 [==============================] - ETA: 1s - loss: 6.5539e-05 - accuracy: 1.00 - ETA: 1s - loss: 3.4937e-05 - accuracy: 1.00 - ETA: 1s - loss: 1.2917e-04 - accuracy: 1.00 - ETA: 0s - loss: 1.4560e-04 - accuracy: 1.00 - ETA: 0s - loss: 1.2301e-04 - accuracy: 1.00 - 2s 405ms/step - loss: 1.0402e-04 - accuracy: 1.0000 - val_loss: 0.1657 - val_accuracy: 0.9634\n",
      "Epoch 30/30\n",
      "6/6 [==============================] - ETA: 0s - loss: 2.3712e-04 - accuracy: 1.00 - ETA: 1s - loss: 1.4084e-04 - accuracy: 1.00 - ETA: 0s - loss: 1.1007e-04 - accuracy: 1.00 - ETA: 0s - loss: 8.9835e-05 - accuracy: 1.00 - ETA: 0s - loss: 8.0004e-05 - accuracy: 1.00 - 2s 379ms/step - loss: 8.9048e-04 - accuracy: 1.0000 - val_loss: 0.1937 - val_accuracy: 0.9524\n"
     ]
    }
   ],
   "source": [
    "History = model.fit_generator(datagen.flow(x_train,y_train, batch_size=batch_size),\n",
    "                              epochs = epochs, validation_data = (x_test,y_test),\n",
    "                              verbose = 1, steps_per_epoch=x_train.shape[0] // batch_size)\n"
   ]
  },
  {
   "cell_type": "code",
   "execution_count": 60,
   "metadata": {},
   "outputs": [
    {
     "data": {
      "image/png": "[encoded data removed]",
      "text/plain": [
       "<Figure size 432x288 with 1 Axes>"
      ]
     },
     "metadata": {},
     "output_type": "display_data"
    }
   ],
   "source": [
    "plt.plot(History.history['loss'])\n",
    "plt.plot(History.history['val_loss'])\n",
    "plt.title('Model Loss')\n",
    "plt.ylabel('Loss')\n",
    "plt.xlabel('Epochs')\n",
    "plt.legend(['train', 'valid'])\n",
    "plt.show()"
   ]
  },
  {
   "cell_type": "code",
   "execution_count": 61,
   "metadata": {},
   "outputs": [
    {
     "data": {
      "image/png": "[encoded data removed]",
      "text/plain": [
       "<Figure size 432x288 with 1 Axes>"
      ]
     },
     "metadata": {},
     "output_type": "display_data"
    }
   ],
   "source": [
    "plt.plot(History.history['accuracy'])\n",
    "plt.plot(History.history['val_accuracy'])\n",
    "plt.title('Model Accuracy')\n",
    "plt.ylabel('Accuracy')\n",
    "plt.xlabel('Epochs')\n",
    "plt.legend(['train', 'valid'])\n",
    "plt.show()"
   ]
  },
  {
   "cell_type": "code",
   "execution_count": 62,
   "metadata": {},
   "outputs": [],
   "source": [
    "# getting predictions on val set.\n",
    "pred=model.predict(x_test)\n",
    "pred_digits=np.argmax(pred,axis=1)"
   ]
  },
  {
   "cell_type": "code",
   "execution_count": 63,
   "metadata": {},
   "outputs": [],
   "source": [
    "def make_train_data1(flower_type,DIR):\n",
    "    for img in os.listdir(DIR):\n",
    "        label=assign_label(img,flower_type)\n",
    "        path = os.path.join(DIR,img)\n",
    "        img = cv2.imread(path,cv2.IMREAD_COLOR)\n",
    "        img = cv2.resize(img, (IMG_SIZE,IMG_SIZE))\n",
    "            \n",
    "        t.append(np.array(img))\n",
    "        s.append(str(label))"
   ]
  },
  {
   "cell_type": "code",
   "execution_count": 64,
   "metadata": {},
   "outputs": [],
   "source": [
    "t=[]\n",
    "s=[]\n",
    "DIR1='/Users/user/Desktop/test/benign'\n",
    "DIR2='/Users/user/Desktop/test/malignant'\n",
    "make_train_data1('benign',DIR1)\n",
    "make_train_data1('malignant',DIR2)"
   ]
  },
  {
   "cell_type": "code",
   "execution_count": 65,
   "metadata": {},
   "outputs": [
    {
     "name": "stdout",
     "output_type": "stream",
     "text": [
      "(1091, 50, 50, 3)\n"
     ]
    }
   ],
   "source": [
    "le=LabelEncoder()\n",
    "u=le.fit_transform(s)\n",
    "u1=to_categorical(u,2)\n",
    "t=np.array(t)\n",
    "t=t/255\n",
    "print(t.shape)"
   ]
  },
  {
   "cell_type": "code",
   "execution_count": 66,
   "metadata": {},
   "outputs": [
    {
     "name": "stdout",
     "output_type": "stream",
     "text": [
      "[0 0 0 ... 1 1 1]\n",
      "[[9.9997938e-01 2.0569641e-05]\n",
      " [1.0000000e+00 6.5653288e-13]\n",
      " [1.0000000e+00 3.4965069e-11]\n",
      " ...\n",
      " [4.2057404e-06 9.9999583e-01]\n",
      " [6.7084804e-10 1.0000000e+00]\n",
      " [1.8684524e-04 9.9981314e-01]]\n"
     ]
    }
   ],
   "source": [
    "# getting predictions on val set.\n",
    "pred=model.predict(t)\n",
    "pred_digits=np.argmax(pred,axis=1)\n",
    "print(pred_digits)\n",
    "print(pred)"
   ]
  },
  {
   "cell_type": "code",
   "execution_count": 67,
   "metadata": {},
   "outputs": [],
   "source": [
    "l=[]\n",
    "for i in range(len(s)):\n",
    "    if(s[i]=='benign'):\n",
    "        l.insert(i,0)\n",
    "    else:\n",
    "        l.insert(i,1)"
   ]
  },
  {
   "cell_type": "code",
   "execution_count": 68,
   "metadata": {},
   "outputs": [],
   "source": [
    "prop_class=[]\n",
    "mis_class=[]\n",
    "\n",
    "for i in range(1000):\n",
    "    if(l[i]==pred_digits[i]):\n",
    "        prop_class.append(i)\n",
    "\n",
    "i=0\n",
    "for i in range(1000):\n",
    "    if( l[i]!=pred_digits[i]):\n",
    "        mis_class.append(i)"
   ]
  },
  {
   "cell_type": "code",
   "execution_count": 69,
   "metadata": {},
   "outputs": [
    {
     "name": "stdout",
     "output_type": "stream",
     "text": [
      "986\n",
      "14\n"
     ]
    }
   ],
   "source": [
    "print(len(prop_class))\n",
    "print(len(mis_class))"
   ]
  }
 ],
 "metadata": {
  "kernelspec": {
   "display_name": "Python 3",
   "language": "python",
   "name": "python3"
  },
  "language_info": {
   "codemirror_mode": {
    "name": "ipython",
    "version": 3
   },
   "file_extension": ".py",
   "mimetype": "text/x-python",
   "name": "python",
   "nbconvert_exporter": "python",
   "pygments_lexer": "ipython3",
   "version": "3.7.4"
  }
 },
 "nbformat": 4,
 "nbformat_minor": 2
}
